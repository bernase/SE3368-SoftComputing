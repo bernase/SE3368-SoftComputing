{
  "nbformat": 4,
  "nbformat_minor": 0,
  "metadata": {
    "colab": {
      "name": "finalProject.ipynb",
      "provenance": [],
      "collapsed_sections": [],
      "authorship_tag": "ABX9TyMpei6Y7895XhbybfaIhyv/",
      "include_colab_link": true
    },
    "kernelspec": {
      "name": "python3",
      "display_name": "Python 3"
    },
    "language_info": {
      "name": "python"
    }
  },
  "cells": [
    {
      "cell_type": "markdown",
      "metadata": {
        "id": "view-in-github",
        "colab_type": "text"
      },
      "source": [
        "<a href=\"https://colab.research.google.com/github/bernase/SE3368-SoftComputing/blob/main/finalProject.ipynb\" target=\"_parent\"><img src=\"https://colab.research.google.com/assets/colab-badge.svg\" alt=\"Open In Colab\"/></a>"
      ]
    },
    {
      "cell_type": "code",
      "execution_count": null,
      "metadata": {
        "colab": {
          "base_uri": "https://localhost:8080/"
        },
        "id": "Tl5Y791n_Lqe",
        "outputId": "9f51980c-ca32-4422-a308-7efc201064a8"
      },
      "outputs": [
        {
          "output_type": "stream",
          "name": "stdout",
          "text": [
            "Mounted at /content/drive\n"
          ]
        },
        {
          "output_type": "stream",
          "name": "stderr",
          "text": [
            "/usr/local/lib/python3.7/dist-packages/keras/optimizer_v2/adam.py:105: UserWarning: The `lr` argument is deprecated, use `learning_rate` instead.\n",
            "  super(Adam, self).__init__(name, **kwargs)\n"
          ]
        },
        {
          "output_type": "stream",
          "name": "stdout",
          "text": [
            "Found 343 images belonging to 2 classes.\n",
            "Found 100 images belonging to 2 classes.\n",
            "Epoch 1/10\n",
            "34/34 [==============================] - 70s 2s/step - loss: 40.8808 - accuracy: 0.6426 - val_loss: 0.6807 - val_accuracy: 0.6800\n",
            "Epoch 2/10\n",
            "34/34 [==============================] - 68s 2s/step - loss: 0.6604 - accuracy: 0.7087 - val_loss: 0.6521 - val_accuracy: 0.6800\n",
            "Epoch 3/10\n",
            "34/34 [==============================] - 68s 2s/step - loss: 0.6288 - accuracy: 0.7087 - val_loss: 0.6337 - val_accuracy: 0.6800\n",
            "Epoch 4/10\n",
            "34/34 [==============================] - 69s 2s/step - loss: 0.6211 - accuracy: 0.7057 - val_loss: 0.6284 - val_accuracy: 0.6800\n",
            "Epoch 5/10\n",
            "34/34 [==============================] - 69s 2s/step - loss: 0.6251 - accuracy: 0.7087 - val_loss: 0.6277 - val_accuracy: 0.6800\n",
            "34/34 [==============================] - 68s 2s/step - loss: 0.6168 - accuracy: 0.6967 - val_loss: 0.6267 - val_accuracy: 0.6800\n",
            "Epoch 7/10\n",
            "34/34 [==============================] - 69s 2s/step - loss: 0.6117 - accuracy: 0.7027 - val_loss: 0.6262 - val_accuracy: 0.6800\n",
            "Epoch 8/10\n",
            "34/34 [==============================] - 69s 2s/step - loss: 0.6256 - accuracy: 0.7027 - val_loss: 0.6263 - val_accuracy: 0.6800\n",
            "Epoch 9/10\n",
            "34/34 [==============================] - 69s 2s/step - loss: 0.6073 - accuracy: 0.7057 - val_loss: 0.6262 - val_accuracy: 0.6800\n",
            "Epoch 10/10\n",
            "34/34 [==============================] - 69s 2s/step - loss: 0.6059 - accuracy: 0.7057 - val_loss: 0.6264 - val_accuracy: 0.6800\n"
          ]
        },
        {
          "output_type": "execute_result",
          "data": {
            "text/plain": [
              "<keras.callbacks.History at 0x7f3cd6c78750>"
            ]
          },
          "metadata": {},
          "execution_count": 7
        }
      ],
      "source": [
        "from keras.callbacks import History\n",
        "from keras.metrics import accuracy\n",
        "import os\n",
        "import numpy as np\n",
        "import pandas as pd\n",
        "import matplotlib.pyplot as plt\n",
        "import keras as keras\n",
        "import tensorflow as tf\n",
        "from keras.models import Sequential\n",
        "from keras.layers import Dense, Dropout, Conv2D, Activation, MaxPooling2D, Flatten\n",
        "from keras_preprocessing.image import ImageDataGenerator\n",
        "from google.colab import drive\n",
        "#drive.mount('/content/drive')\n",
        "drive.mount('/content/drive', force_remount=True)\n",
        "\n",
        "img_width = 384\n",
        "img_height = 512\n",
        "img_channel = 3\n",
        "\n",
        "train_data_dir=\"/content/drive/MyDrive/Colab Notebooks/Training\"\n",
        "validation_data_dir='/content/drive/MyDrive/Colab Notebooks/Validation'\n",
        "\n",
        "nb_train_samples = 343\n",
        "nb_validation_samples = 100\n",
        "#nb_train_samples = os.listdir(train_data_dir)\n",
        "#nb_validation_samples = os.listdir(validation_data_dir)\n",
        "\n",
        "epochs = 10\n",
        "batch_size = 10\n",
        "model = Sequential()\n",
        "model.add(Conv2D(32, (3, 3), input_shape=(img_width, img_height, img_channel)))\n",
        "model.add(Activation('relu'))\n",
        "model.add(MaxPooling2D(pool_size=(2, 2)))\n",
        "model.add(Flatten())\n",
        "model.add(Dense(64))\n",
        "model.add(Activation('relu'))\n",
        "model.add(Dropout(0.5))\n",
        "model.add(Dense(1))\n",
        "model.add(Activation('sigmoid'))\n",
        "\n",
        "opt = tf.keras.optimizers.Adam(lr=0.5e-2)\n",
        "#opt = tf.keras.optimizers.Adagrad(learning_rate=0.001,initial_accumulator_value=0.1,epsilon=1e-07,name=\"Adagrad\")\n",
        "#optimizer='rmsprop'\n",
        "\n",
        "model.compile(loss='binary_crossentropy',\n",
        "              optimizer=opt,\n",
        "              metrics=['accuracy'])\n",
        "\n",
        "train_datagen = ImageDataGenerator(\n",
        "    rescale=1. / 255,\n",
        "    shear_range=0.2,\n",
        "    zoom_range=0.2,\n",
        "    horizontal_flip=True)\n",
        "\n",
        "train_generator = train_datagen.flow_from_directory(\n",
        "    train_data_dir,\n",
        "    target_size=(img_width, img_height),\n",
        "    batch_size=batch_size,\n",
        "    class_mode='binary')\n",
        "\n",
        "test_datagen = ImageDataGenerator(rescale=1. / 255)\n",
        "\n",
        "validation_generator = test_datagen.flow_from_directory(\n",
        "    validation_data_dir,\n",
        "    target_size=(img_width, img_height),\n",
        "    batch_size=batch_size,\n",
        "    class_mode='binary')\n",
        "\n",
        "model.fit(\n",
        "    train_generator,\n",
        "    steps_per_epoch=nb_train_samples // batch_size,\n",
        "    epochs=epochs,\n",
        "    validation_data=validation_generator, \n",
        "    validation_steps=nb_validation_samples // batch_size)"
      ]
    }
  ]
}